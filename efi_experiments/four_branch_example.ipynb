{
  "cells": [
    {
      "cell_type": "code",
      "execution_count": 1,
      "metadata": {
        "collapsed": false
      },
      "outputs": [],
      "source": [
        "%matplotlib inline"
      ]
    },
    {
      "cell_type": "markdown",
      "metadata": {},
      "source": [
        "\n",
        "# Example 1: Use of AK- MCS on Four Branch function\n"
      ]
    },
    {
      "cell_type": "code",
      "execution_count": 2,
      "metadata": {
        "collapsed": false
      },
      "outputs": [],
      "source": [
        "import openturns as ot\n",
        "from openturns.viewer import View\n",
        "import numpy as np\n",
        "import otak\n",
        "\n",
        "ot.RandomGenerator.SetSeed(1)"
      ]
    },
    {
      "cell_type": "markdown",
      "metadata": {},
      "source": [
        "| Definition of Input distribution\n",
        "\n"
      ]
    },
    {
      "cell_type": "code",
      "execution_count": 3,
      "metadata": {
        "collapsed": false
      },
      "outputs": [],
      "source": [
        "dim_inputs = 2\n",
        "dist_x = ot.Normal([0.0, 0.0], [1., 1.], ot.CorrelationMatrix(dim_inputs))\n",
        "inputVector = ot.RandomVector(dist_x)"
      ]
    },
    {
      "cell_type": "markdown",
      "metadata": {},
      "source": [
        "| Definition of limit state function\n",
        "\n"
      ]
    },
    {
      "cell_type": "code",
      "execution_count": 4,
      "metadata": {
        "collapsed": false
      },
      "outputs": [],
      "source": [
        "def four_branch(x):\n",
        "    x1 = x[0]\n",
        "    x2  = x[1]\n",
        "    k = x[2]\n",
        "    g1 = 3+0.1*(x1-x2)**2-(x1+x2)/np.sqrt(2)\n",
        "    g2 = 3+0.1*(x1-x2)**2+(x1+x2)/np.sqrt(2)\n",
        "    g3 = (x1-x2)+k/np.sqrt(2)\n",
        "    g4 =(x2-x1)+k/np.sqrt(2)\n",
        "    return [min((g1,g2,g3,g4))]\n",
        "\n",
        "my_four_branch = ot.PythonFunction(3, 1, four_branch)\n",
        "\n",
        "index_frozen = [2]\n",
        "my_four_branch_6 = ot.ParametricFunction(my_four_branch, index_frozen, [6])"
      ]
    },
    {
      "cell_type": "markdown",
      "metadata": {},
      "source": [
        "| Definition of event\n",
        "\n"
      ]
    },
    {
      "cell_type": "code",
      "execution_count": 5,
      "metadata": {
        "collapsed": false
      },
      "outputs": [],
      "source": [
        "Y = ot.CompositeRandomVector(my_four_branch_6, inputVector)\n",
        "my_event4b = ot.ThresholdEvent(Y,ot.Less(),0.0)"
      ]
    },
    {
      "cell_type": "markdown",
      "metadata": {},
      "source": [
        "| Run of AK MCS\n",
        "\n"
      ]
    },
    {
      "cell_type": "code",
      "execution_count": 6,
      "metadata": {
        "collapsed": false
      },
      "outputs": [
        {
          "name": "stderr",
          "output_type": "stream",
          "text": [
            "\u001b[34m\u001b[1mWRN - Warning! For coherency we set scale upper bounds = [8.24886,9.09517]\u001b[0m\n",
            "\u001b[34m\u001b[1mWRN - Warning! For coherency we set scale upper bounds = [8.50844,9.60202]\u001b[0m\n",
            "\u001b[34m\u001b[1mWRN - Warning! For coherency we set scale upper bounds = [11.2265,11.8482]\u001b[0m\n",
            "\u001b[34m\u001b[1mWRN - (previous message repeated 1 time)\u001b[0m\n",
            "\u001b[34m\u001b[1mWRN - Warning! For coherency we set scale upper bounds = [11.2265,14.6435]\u001b[0m\n",
            "\u001b[34m\u001b[1mWRN - (previous message repeated 2 times)\u001b[0m\n",
            "\u001b[34m\u001b[1mWRN - Warning! For coherency we set scale upper bounds = [11.2265,15.6829]\u001b[0m\n",
            "\u001b[34m\u001b[1mWRN - (previous message repeated 7 times)\u001b[0m\n",
            "\u001b[34m\u001b[1mWRN - Warning! For coherency we set scale upper bounds = [11.8353,15.6829]\u001b[0m\n",
            "\u001b[34m\u001b[1mWRN - (previous message repeated 1 time)\u001b[0m\n",
            "\u001b[34m\u001b[1mWRN - Warning! For coherency we set scale upper bounds = [12.3872,15.6829]\u001b[0m\n",
            "\u001b[34m\u001b[1mWRN - (previous message repeated 4 times)\u001b[0m\n",
            "\u001b[34m\u001b[1mWRN - Warning! For coherency we set scale upper bounds = [13.6292,15.6829]\u001b[0m\n",
            "\u001b[34m\u001b[1mWRN - Warning! For coherency we set scale upper bounds = [13.6306,15.6829]\u001b[0m\n",
            "\u001b[34m\u001b[1mWRN - (previous message repeated 2 times)\u001b[0m\n",
            "\u001b[34m\u001b[1mWRN - Warning! For coherency we set scale upper bounds = [14.0885,15.6829]\u001b[0m\n",
            "\u001b[34m\u001b[1mWRN - (previous message repeated 1 time)\u001b[0m\n",
            "\u001b[34m\u001b[1mWRN - Warning! For coherency we set scale upper bounds = [14.1815,15.6829]\u001b[0m\n"
          ]
        },
        {
          "name": "stdout",
          "output_type": "stream",
          "text": [
            "Probability of failure 0.0044\n",
            "Simulation budget 61\n",
            "Coefficient of variation 0.1504236441762821\n"
          ]
        }
      ],
      "source": [
        "dim_4b = 2\n",
        "basis = ot.ConstantBasisFactory(dim_4b).build()\n",
        "covarianceModel = ot.MaternModel(dim_4b)\n",
        "n_MC_4b = 10000\n",
        "n_DoE_4b = 20\n",
        "sim_budget_4b = 200\n",
        "verbose = False\n",
        "criterion = 2\n",
        "\n",
        "my_AK_four_branch = otak.AK_MCSAlgorithm(my_event4b,\n",
        "                                    n_MC_4b,\n",
        "                                    n_DoE_4b,\n",
        "                                    sim_budget_4b,\n",
        "                                    basis,\n",
        "                                    covarianceModel,\n",
        "                                    criterion,\n",
        "                                    verbose)\n",
        "\n",
        "my_AK_four_branch.compute_proba()\n",
        "\n",
        "print('Probability of failure',my_AK_four_branch.getFailureProbability())\n",
        "print('Simulation budget',my_AK_four_branch.getSimBudget())\n",
        "print('Coefficient of variation',my_AK_four_branch.getCoefficientOfVariation())"
      ]
    }
  ],
  "metadata": {
    "kernelspec": {
      "display_name": "Python 3.7.3 64-bit",
      "language": "python",
      "name": "python3"
    },
    "language_info": {
      "codemirror_mode": {
        "name": "ipython",
        "version": 3
      },
      "file_extension": ".py",
      "mimetype": "text/x-python",
      "name": "python",
      "nbconvert_exporter": "python",
      "pygments_lexer": "ipython3",
      "version": "3.7.3"
    },
    "vscode": {
      "interpreter": {
        "hash": "916dbcbb3f70747c44a77c7bcd40155683ae19c65e1c03b4aa3499c5328201f1"
      }
    }
  },
  "nbformat": 4,
  "nbformat_minor": 0
}
