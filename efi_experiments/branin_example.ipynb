{
  "cells": [
    {
      "cell_type": "code",
      "execution_count": 1,
      "metadata": {
        "collapsed": false
      },
      "outputs": [],
      "source": [
        "%matplotlib inline"
      ]
    },
    {
      "cell_type": "markdown",
      "metadata": {},
      "source": [
        "\n",
        "# Example 1: Use of AK- MCS on Branin Hoo function\n"
      ]
    },
    {
      "cell_type": "code",
      "execution_count": 2,
      "metadata": {
        "collapsed": false
      },
      "outputs": [],
      "source": [
        "import matplotlib.pyplot as plt\n",
        "from matplotlib import cm\n",
        "import openturns as ot\n",
        "from openturns.viewer import View\n",
        "import numpy as np\n",
        "import otak\n",
        "\n",
        "ot.RandomGenerator.SetSeed(1)"
      ]
    },
    {
      "cell_type": "code",
      "execution_count": 3,
      "metadata": {},
      "outputs": [],
      "source": [
        "class DrawFunctions:\n",
        "    def __init__(self):\n",
        "        dim = 2\n",
        "        self.grid_size = 100\n",
        "        lowerbound = [-5, 0.]\n",
        "        upperbound = [10., 15.]\n",
        "        mesher = ot.IntervalMesher([self.grid_size-1] * dim)\n",
        "        interval = ot.Interval(lowerbound, upperbound)\n",
        "        mesh = mesher.build(interval)\n",
        "        self.nodes = mesh.getVertices()\n",
        "        self.X0, self.X1 = np.array(self.nodes).T.reshape(2, self.grid_size, self.grid_size)\n",
        "\n",
        "    def draw_2D_controur(self, title, function=None, distribution=None, colorbar=cm.plasma):\n",
        "        fig = plt.figure(figsize=(7, 6))\n",
        "        if distribution is not None:\n",
        "            Zpdf = np.array(distribution.computePDF(self.nodes)).reshape(self.grid_size, self.grid_size)\n",
        "            nb_isocurves = 9\n",
        "            contours = plt.contour(self.X0, self.X1, Zpdf, nb_isocurves, colors='black', alpha=0.6)\n",
        "            plt.clabel(contours, inline=True, fontsize=8)\n",
        "        if function is not None:\n",
        "            Z = np.array(function(self.nodes)).reshape(self.grid_size, self.grid_size)\n",
        "            plt.contourf(self.X0, self.X1, Z, 18, cmap=colorbar)\n",
        "            plt.colorbar()\n",
        "        plt.title(title)\n",
        "        plt.xlabel(\"$x_0$\")\n",
        "        plt.ylabel(\"$x_1$\")\n",
        "        return fig"
      ]
    },
    {
      "cell_type": "markdown",
      "metadata": {},
      "source": [
        "| Definition of Input distribution\n",
        "\n"
      ]
    },
    {
      "cell_type": "code",
      "execution_count": 4,
      "metadata": {
        "collapsed": false
      },
      "outputs": [],
      "source": [
        "dim_inputs = 2\n",
        "dist_x = ot.ComposedDistribution([ot.Uniform(-5, 10.), ot.Uniform(0., 15.)])\n",
        "inputVector = ot.RandomVector(dist_x)"
      ]
    },
    {
      "cell_type": "markdown",
      "metadata": {},
      "source": [
        "| Definition of limit state function\n",
        "\n"
      ]
    },
    {
      "cell_type": "code",
      "execution_count": 5,
      "metadata": {},
      "outputs": [],
      "source": [
        "a = 1\n",
        "# b = 5.1/(4*np.pi**2)\n",
        "b = 5 / (4 * np.pi ** 2)\n",
        "c = 5 / np.pi\n",
        "r = 6\n",
        "s = 10\n",
        "t = 1 / (8 * np.pi)\n",
        "def branin_function(x):\n",
        "    y = a * (x[1] - b * x[0] ** 2 + c * x[0] - r) ** 2 + \\\n",
        "        s * (1 - t) * np.cos(x[0]) + s\n",
        "    threshold = 206.\n",
        "    return [threshold - y]\n",
        "\n",
        "def branin_function_plot(x):\n",
        "    x = np.array(x)\n",
        "    y = a * (x[:, 1] - b * x[:, 0] ** 2 + c * x[:, 0] - r) ** 2 + \\\n",
        "        s * (1 - t) * np.cos(x[:, 0]) + s\n",
        "    threshold = 206.\n",
        "    return threshold - y\n",
        "my_branin = ot.PythonFunction(2, 1, branin_function)"
      ]
    },
    {
      "cell_type": "code",
      "execution_count": 6,
      "metadata": {},
      "outputs": [
        {
          "data": {
            "image/png": "[encoded data removed]",
            "text/plain": [
              "<Figure size 504x432 with 2 Axes>"
            ]
          },
          "metadata": {
            "needs_background": "light"
          },
          "output_type": "display_data"
        }
      ],
      "source": [
        "d = DrawFunctions()\n",
        "d.draw_2D_controur(title=\"test\", function=branin_function_plot);"
      ]
    },
    {
      "cell_type": "markdown",
      "metadata": {},
      "source": [
        "| Definition of event\n",
        "\n"
      ]
    },
    {
      "cell_type": "code",
      "execution_count": 7,
      "metadata": {
        "collapsed": false
      },
      "outputs": [],
      "source": [
        "Y = ot.CompositeRandomVector(my_branin, inputVector)\n",
        "my_event = ot.ThresholdEvent(Y, ot.Less(), 0.0)"
      ]
    },
    {
      "cell_type": "code",
      "execution_count": 8,
      "metadata": {},
      "outputs": [
        {
          "name": "stdout",
          "output_type": "stream",
          "text": [
            "Monte Carlo reference failure probability: 0.009585\n"
          ]
        }
      ],
      "source": [
        "reference_pf = my_event.getSample(1000000).computeMean()[0]\n",
        "print(\"Monte Carlo reference failure probability: {}\".format(reference_pf))"
      ]
    },
    {
      "cell_type": "markdown",
      "metadata": {},
      "source": [
        "| Run of AK MCS\n",
        "\n"
      ]
    },
    {
      "cell_type": "code",
      "execution_count": 9,
      "metadata": {
        "collapsed": false
      },
      "outputs": [
        {
          "name": "stderr",
          "output_type": "stream",
          "text": [
            "\u001b[34m\u001b[1mWRN - Warning! For coherency we set scale upper bounds = [28.692,29.298]\u001b[0m\n",
            "\u001b[34m\u001b[1mWRN - Warning! For coherency we set scale upper bounds = [28.692,29.6074]\u001b[0m\n",
            "\u001b[34m\u001b[1mWRN - (previous message repeated 6 times)\u001b[0m\n",
            "\u001b[34m\u001b[1mWRN - Warning! For coherency we set scale upper bounds = [28.692,29.6114]\u001b[0m\n",
            "\u001b[34m\u001b[1mWRN - (previous message repeated 9 times)\u001b[0m\n",
            "\u001b[34m\u001b[1mWRN - Warning! For coherency we set scale upper bounds = [29.9018,29.8274]\u001b[0m\n",
            "\u001b[34m\u001b[1mWRN - (previous message repeated 2 times)\u001b[0m\n",
            "\u001b[34m\u001b[1mWRN - Warning! For coherency we set scale upper bounds = [29.9376,29.8274]\u001b[0m\n",
            "\u001b[34m\u001b[1mWRN - (previous message repeated 6 times)\u001b[0m\n",
            "\u001b[34m\u001b[1mWRN - Warning! For coherency we set scale upper bounds = [29.9376,29.9327]\u001b[0m\n"
          ]
        },
        {
          "name": "stdout",
          "output_type": "stream",
          "text": [
            "Probability of failure 0.00962\n",
            "Simulation budget 51\n",
            "Coefficient of variation 0.032085838613024276\n"
          ]
        }
      ],
      "source": [
        "dim_4b = 2\n",
        "basis = ot.ConstantBasisFactory(dim_4b).build()\n",
        "covarianceModel = ot.MaternModel(dim_4b)\n",
        "n_MC_4b = 100000\n",
        "n_DoE_4b = 20\n",
        "sim_budget_4b = 200\n",
        "verbose = False\n",
        "criterion = 2\n",
        "\n",
        "my_AK_four_branch = otak.AK_MCSAlgorithm(my_event,\n",
        "                                    n_MC_4b,\n",
        "                                    n_DoE_4b,\n",
        "                                    sim_budget_4b,\n",
        "                                    basis,\n",
        "                                    covarianceModel,\n",
        "                                    criterion,\n",
        "                                    verbose)\n",
        "\n",
        "my_AK_four_branch.compute_proba()\n",
        "\n",
        "print('Probability of failure',my_AK_four_branch.getFailureProbability())\n",
        "print('Simulation budget',my_AK_four_branch.getSimBudget())\n",
        "print('Coefficient of variation',my_AK_four_branch.getCoefficientOfVariation())"
      ]
    },
    {
      "cell_type": "code",
      "execution_count": 10,
      "metadata": {},
      "outputs": [
        {
          "data": {
            "text/plain": [
              "<matplotlib.collections.PathCollection at 0x7f029d946b00>"
            ]
          },
          "execution_count": 10,
          "metadata": {},
          "output_type": "execute_result"
        },
        {
          "data": {
            "image/png": "[encoded data removed]",
            "text/plain": [
              "<Figure size 504x432 with 2 Axes>"
            ]
          },
          "metadata": {
            "needs_background": "light"
          },
          "output_type": "display_data"
        }
      ],
      "source": [
        "akda_design = my_AK_four_branch.DoE[0]\n",
        "d.draw_2D_controur(title=\"Branin Hoo \", function=branin_function_plot)\n",
        "plt.scatter(akda_design[:, 0], akda_design[:, 1], color='k')"
      ]
    },
    {
      "cell_type": "code",
      "execution_count": 11,
      "metadata": {},
      "outputs": [
        {
          "data": {
            "text/plain": [
              "[151.48933708564198]"
            ]
          },
          "execution_count": 11,
          "metadata": {},
          "output_type": "execute_result"
        }
      ],
      "source": [
        "branin_function([10., 10.])"
      ]
    },
    {
      "cell_type": "code",
      "execution_count": null,
      "metadata": {},
      "outputs": [],
      "source": []
    }
  ],
  "metadata": {
    "kernelspec": {
      "display_name": "Python 3.10.5 ('fiab')",
      "language": "python",
      "name": "python3"
    },
    "language_info": {
      "codemirror_mode": {
        "name": "ipython",
        "version": 3
      },
      "file_extension": ".py",
      "mimetype": "text/x-python",
      "name": "python",
      "nbconvert_exporter": "python",
      "pygments_lexer": "ipython3",
      "version": "3.10.5"
    },
    "vscode": {
      "interpreter": {
        "hash": "a99201d87c222c487cadcb146b522932ffa11052f3d36dfd8753a4a9fc7f7a3d"
      }
    }
  },
  "nbformat": 4,
  "nbformat_minor": 0
}
